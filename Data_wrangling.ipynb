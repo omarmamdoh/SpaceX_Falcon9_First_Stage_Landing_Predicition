{
  "cells": [
    {
      "cell_type": "code",
      "execution_count": 1,
      "metadata": {
        "id": "B5LoI01yp8l4"
      },
      "outputs": [],
      "source": [
        "import pandas as pd\n",
        "import numpy as np"
      ]
    },
    {
      "cell_type": "code",
      "execution_count": 2,
      "metadata": {
        "id": "fMENxBxgp8l6"
      },
      "outputs": [],
      "source": [
        "df=pd.read_csv(\"SpaceX_Data.csv\")"
      ]
    },
    {
      "cell_type": "code",
      "execution_count": 3,
      "metadata": {
        "colab": {
          "base_uri": "https://localhost:8080/",
          "height": 313
        },
        "id": "qs34orAdq4TA",
        "outputId": "859c52b2-88dd-40fa-8b06-84a7ff620f3a"
      },
      "outputs": [
        {
          "data": {
            "text/html": [
              "<div>\n",
              "<style scoped>\n",
              "    .dataframe tbody tr th:only-of-type {\n",
              "        vertical-align: middle;\n",
              "    }\n",
              "\n",
              "    .dataframe tbody tr th {\n",
              "        vertical-align: top;\n",
              "    }\n",
              "\n",
              "    .dataframe thead th {\n",
              "        text-align: right;\n",
              "    }\n",
              "</style>\n",
              "<table border=\"1\" class=\"dataframe\">\n",
              "  <thead>\n",
              "    <tr style=\"text-align: right;\">\n",
              "      <th></th>\n",
              "      <th>FlightNumber</th>\n",
              "      <th>Date</th>\n",
              "      <th>BoosterVersion</th>\n",
              "      <th>PayloadMass</th>\n",
              "      <th>Orbit</th>\n",
              "      <th>LaunchSite</th>\n",
              "      <th>Outcome</th>\n",
              "      <th>Flights</th>\n",
              "      <th>GridFins</th>\n",
              "      <th>Reused</th>\n",
              "      <th>Legs</th>\n",
              "      <th>LandingPad</th>\n",
              "      <th>Block</th>\n",
              "      <th>ReusedCount</th>\n",
              "      <th>Serial</th>\n",
              "      <th>Longitude</th>\n",
              "      <th>Latitude</th>\n",
              "    </tr>\n",
              "  </thead>\n",
              "  <tbody>\n",
              "    <tr>\n",
              "      <th>0</th>\n",
              "      <td>6</td>\n",
              "      <td>2010-06-04</td>\n",
              "      <td>Falcon 9</td>\n",
              "      <td>NaN</td>\n",
              "      <td>LEO</td>\n",
              "      <td>CCSFS SLC 40</td>\n",
              "      <td>None None</td>\n",
              "      <td>1.0</td>\n",
              "      <td>False</td>\n",
              "      <td>False</td>\n",
              "      <td>False</td>\n",
              "      <td>NaN</td>\n",
              "      <td>1.0</td>\n",
              "      <td>0.0</td>\n",
              "      <td>B0003</td>\n",
              "      <td>-80.577366</td>\n",
              "      <td>28.561857</td>\n",
              "    </tr>\n",
              "    <tr>\n",
              "      <th>1</th>\n",
              "      <td>8</td>\n",
              "      <td>2012-05-22</td>\n",
              "      <td>Falcon 9</td>\n",
              "      <td>525.0</td>\n",
              "      <td>LEO</td>\n",
              "      <td>CCSFS SLC 40</td>\n",
              "      <td>None None</td>\n",
              "      <td>1.0</td>\n",
              "      <td>False</td>\n",
              "      <td>False</td>\n",
              "      <td>False</td>\n",
              "      <td>NaN</td>\n",
              "      <td>1.0</td>\n",
              "      <td>0.0</td>\n",
              "      <td>B0005</td>\n",
              "      <td>-80.577366</td>\n",
              "      <td>28.561857</td>\n",
              "    </tr>\n",
              "    <tr>\n",
              "      <th>2</th>\n",
              "      <td>10</td>\n",
              "      <td>2013-03-01</td>\n",
              "      <td>Falcon 9</td>\n",
              "      <td>677.0</td>\n",
              "      <td>ISS</td>\n",
              "      <td>CCSFS SLC 40</td>\n",
              "      <td>None None</td>\n",
              "      <td>1.0</td>\n",
              "      <td>False</td>\n",
              "      <td>False</td>\n",
              "      <td>False</td>\n",
              "      <td>NaN</td>\n",
              "      <td>1.0</td>\n",
              "      <td>0.0</td>\n",
              "      <td>B0007</td>\n",
              "      <td>-80.577366</td>\n",
              "      <td>28.561857</td>\n",
              "    </tr>\n",
              "    <tr>\n",
              "      <th>3</th>\n",
              "      <td>11</td>\n",
              "      <td>2013-09-29</td>\n",
              "      <td>Falcon 9</td>\n",
              "      <td>500.0</td>\n",
              "      <td>PO</td>\n",
              "      <td>VAFB SLC 4E</td>\n",
              "      <td>False Ocean</td>\n",
              "      <td>1.0</td>\n",
              "      <td>False</td>\n",
              "      <td>False</td>\n",
              "      <td>False</td>\n",
              "      <td>NaN</td>\n",
              "      <td>1.0</td>\n",
              "      <td>0.0</td>\n",
              "      <td>B1003</td>\n",
              "      <td>-120.610829</td>\n",
              "      <td>34.632093</td>\n",
              "    </tr>\n",
              "    <tr>\n",
              "      <th>4</th>\n",
              "      <td>12</td>\n",
              "      <td>2013-12-03</td>\n",
              "      <td>Falcon 9</td>\n",
              "      <td>3170.0</td>\n",
              "      <td>GTO</td>\n",
              "      <td>CCSFS SLC 40</td>\n",
              "      <td>None None</td>\n",
              "      <td>1.0</td>\n",
              "      <td>False</td>\n",
              "      <td>False</td>\n",
              "      <td>False</td>\n",
              "      <td>NaN</td>\n",
              "      <td>1.0</td>\n",
              "      <td>0.0</td>\n",
              "      <td>B1004</td>\n",
              "      <td>-80.577366</td>\n",
              "      <td>28.561857</td>\n",
              "    </tr>\n",
              "  </tbody>\n",
              "</table>\n",
              "</div>"
            ],
            "text/plain": [
              "   FlightNumber        Date BoosterVersion  PayloadMass Orbit    LaunchSite  \\\n",
              "0             6  2010-06-04       Falcon 9          NaN   LEO  CCSFS SLC 40   \n",
              "1             8  2012-05-22       Falcon 9        525.0   LEO  CCSFS SLC 40   \n",
              "2            10  2013-03-01       Falcon 9        677.0   ISS  CCSFS SLC 40   \n",
              "3            11  2013-09-29       Falcon 9        500.0    PO   VAFB SLC 4E   \n",
              "4            12  2013-12-03       Falcon 9       3170.0   GTO  CCSFS SLC 40   \n",
              "\n",
              "       Outcome  Flights GridFins Reused   Legs LandingPad  Block  ReusedCount  \\\n",
              "0    None None      1.0    False  False  False        NaN    1.0          0.0   \n",
              "1    None None      1.0    False  False  False        NaN    1.0          0.0   \n",
              "2    None None      1.0    False  False  False        NaN    1.0          0.0   \n",
              "3  False Ocean      1.0    False  False  False        NaN    1.0          0.0   \n",
              "4    None None      1.0    False  False  False        NaN    1.0          0.0   \n",
              "\n",
              "  Serial   Longitude   Latitude  \n",
              "0  B0003  -80.577366  28.561857  \n",
              "1  B0005  -80.577366  28.561857  \n",
              "2  B0007  -80.577366  28.561857  \n",
              "3  B1003 -120.610829  34.632093  \n",
              "4  B1004  -80.577366  28.561857  "
            ]
          },
          "execution_count": 3,
          "metadata": {},
          "output_type": "execute_result"
        }
      ],
      "source": [
        "df.head()"
      ]
    },
    {
      "cell_type": "code",
      "execution_count": 4,
      "metadata": {
        "colab": {
          "base_uri": "https://localhost:8080/"
        },
        "id": "T7zcOsqjp8l6",
        "outputId": "9c7a2011-5af6-462b-8c7f-111b2bd95c6f"
      },
      "outputs": [
        {
          "data": {
            "text/plain": [
              "(173, 17)"
            ]
          },
          "execution_count": 4,
          "metadata": {},
          "output_type": "execute_result"
        }
      ],
      "source": [
        "df.loc[:,'FlightNumber'] = list(range(1, df.shape[0]+1))\n",
        "df.shape"
      ]
    },
    {
      "cell_type": "markdown",
      "metadata": {
        "id": "PdHP0wUmrM9G"
      },
      "source": [
        "#Check Null"
      ]
    },
    {
      "cell_type": "code",
      "execution_count": 5,
      "metadata": {
        "colab": {
          "base_uri": "https://localhost:8080/",
          "height": 617
        },
        "id": "NKMQoAcvp8l7",
        "outputId": "78575b33-66d1-401f-c58b-be0c75b88ec5"
      },
      "outputs": [
        {
          "data": {
            "text/plain": [
              "FlightNumber       0\n",
              "Date               0\n",
              "BoosterVersion     0\n",
              "PayloadMass       24\n",
              "Orbit              1\n",
              "LaunchSite         0\n",
              "Outcome            0\n",
              "Flights            5\n",
              "GridFins           5\n",
              "Reused             5\n",
              "Legs               5\n",
              "LandingPad        31\n",
              "Block              5\n",
              "ReusedCount        5\n",
              "Serial             5\n",
              "Longitude          0\n",
              "Latitude           0\n",
              "dtype: int64"
            ]
          },
          "execution_count": 5,
          "metadata": {},
          "output_type": "execute_result"
        }
      ],
      "source": [
        "df.isnull().sum()"
      ]
    },
    {
      "cell_type": "markdown",
      "metadata": {
        "id": "MBn8hX_ivbgi"
      },
      "source": [
        "#Replace null values in PayloadMass with the mean Value"
      ]
    },
    {
      "cell_type": "code",
      "execution_count": 6,
      "metadata": {
        "id": "gJh6Yfoup8l8"
      },
      "outputs": [],
      "source": [
        "Mean_PayloadMass = df.PayloadMass.mean()\n",
        "df['PayloadMass'] = df['PayloadMass'].replace(np.nan, Mean_PayloadMass)"
      ]
    },
    {
      "cell_type": "code",
      "execution_count": 7,
      "metadata": {
        "colab": {
          "base_uri": "https://localhost:8080/",
          "height": 617
        },
        "id": "PNXH46j7p8l8",
        "outputId": "4cc1e092-f679-4e8c-ca12-7c4485ccda47"
      },
      "outputs": [
        {
          "data": {
            "text/plain": [
              "FlightNumber       0\n",
              "Date               0\n",
              "BoosterVersion     0\n",
              "PayloadMass        0\n",
              "Orbit              1\n",
              "LaunchSite         0\n",
              "Outcome            0\n",
              "Flights            5\n",
              "GridFins           5\n",
              "Reused             5\n",
              "Legs               5\n",
              "LandingPad        31\n",
              "Block              5\n",
              "ReusedCount        5\n",
              "Serial             5\n",
              "Longitude          0\n",
              "Latitude           0\n",
              "dtype: int64"
            ]
          },
          "execution_count": 7,
          "metadata": {},
          "output_type": "execute_result"
        }
      ],
      "source": [
        "df.isnull().sum()"
      ]
    },
    {
      "cell_type": "markdown",
      "metadata": {
        "id": "64CMxQv3u2Yx"
      },
      "source": [
        "#Replace null value for orbit column with the most repeated value"
      ]
    },
    {
      "cell_type": "code",
      "execution_count": 8,
      "metadata": {
        "id": "FvIBAjd1uguD"
      },
      "outputs": [],
      "source": [
        "most_frequent_orbit = df['Orbit'].mode()[0]\n",
        "df['Orbit'].fillna(most_frequent_orbit, inplace=True)"
      ]
    },
    {
      "cell_type": "code",
      "execution_count": 9,
      "metadata": {
        "id": "zS7d5P5yuFBp"
      },
      "outputs": [],
      "source": [
        "#drop LandingPad as large number of nulls are found\n",
        "df.drop(['LandingPad'], axis=1, inplace=True)"
      ]
    },
    {
      "cell_type": "code",
      "execution_count": 10,
      "metadata": {
        "colab": {
          "base_uri": "https://localhost:8080/",
          "height": 585
        },
        "id": "-C-1L_bGuQ6p",
        "outputId": "8f14fe7e-736e-4865-9255-950881cd2350"
      },
      "outputs": [
        {
          "data": {
            "text/plain": [
              "FlightNumber      0\n",
              "Date              0\n",
              "BoosterVersion    0\n",
              "PayloadMass       0\n",
              "Orbit             0\n",
              "LaunchSite        0\n",
              "Outcome           0\n",
              "Flights           0\n",
              "GridFins          0\n",
              "Reused            0\n",
              "Legs              0\n",
              "Block             0\n",
              "ReusedCount       0\n",
              "Serial            0\n",
              "Longitude         0\n",
              "Latitude          0\n",
              "dtype: int64"
            ]
          },
          "execution_count": 10,
          "metadata": {},
          "output_type": "execute_result"
        }
      ],
      "source": [
        "#drop any null value found as by checking for this values found their landing outcome is None None\n",
        "df.dropna(inplace=True)\n",
        "df.isnull().sum()"
      ]
    },
    {
      "cell_type": "code",
      "execution_count": 11,
      "metadata": {
        "colab": {
          "base_uri": "https://localhost:8080/",
          "height": 585
        },
        "id": "x68OjdNpp8l8",
        "outputId": "8e3edfe1-ca33-4c5c-8186-ca1cfa8f8952"
      },
      "outputs": [
        {
          "data": {
            "text/plain": [
              "FlightNumber        int64\n",
              "Date               object\n",
              "BoosterVersion     object\n",
              "PayloadMass       float64\n",
              "Orbit              object\n",
              "LaunchSite         object\n",
              "Outcome            object\n",
              "Flights           float64\n",
              "GridFins           object\n",
              "Reused             object\n",
              "Legs               object\n",
              "Block             float64\n",
              "ReusedCount       float64\n",
              "Serial             object\n",
              "Longitude         float64\n",
              "Latitude          float64\n",
              "dtype: object"
            ]
          },
          "execution_count": 11,
          "metadata": {},
          "output_type": "execute_result"
        }
      ],
      "source": [
        "df.dtypes"
      ]
    },
    {
      "cell_type": "markdown",
      "metadata": {
        "id": "tANxyjmdsrrz"
      },
      "source": [
        "#Number of Launches on each Site"
      ]
    },
    {
      "cell_type": "code",
      "execution_count": 12,
      "metadata": {
        "colab": {
          "base_uri": "https://localhost:8080/",
          "height": 209
        },
        "id": "Lckmjhfkp8l9",
        "outputId": "caa1cb5b-9c02-4a71-c9a8-43149ef7ca37"
      },
      "outputs": [
        {
          "data": {
            "text/plain": [
              "LaunchSite\n",
              "CCSFS SLC 40    93\n",
              "KSC LC 39A      49\n",
              "VAFB SLC 4E     26\n",
              "Name: count, dtype: int64"
            ]
          },
          "execution_count": 12,
          "metadata": {},
          "output_type": "execute_result"
        }
      ],
      "source": [
        "df.LaunchSite.value_counts()"
      ]
    },
    {
      "cell_type": "markdown",
      "metadata": {
        "id": "ocemrBr_syJQ"
      },
      "source": [
        "#Number of Launches for each orbit"
      ]
    },
    {
      "cell_type": "code",
      "execution_count": 13,
      "metadata": {
        "colab": {
          "base_uri": "https://localhost:8080/",
          "height": 491
        },
        "id": "RJ-3U5A-p8l9",
        "outputId": "823beaea-ea8f-4e5e-d335-b257f8c9e7f6"
      },
      "outputs": [
        {
          "data": {
            "text/plain": [
              "Orbit\n",
              "VLEO     55\n",
              "ISS      32\n",
              "GTO      31\n",
              "LEO      14\n",
              "PO       13\n",
              "SSO      11\n",
              "MEO       5\n",
              "GEO       2\n",
              "TLI       2\n",
              "ES-L1     1\n",
              "HEO       1\n",
              "SO        1\n",
              "Name: count, dtype: int64"
            ]
          },
          "execution_count": 13,
          "metadata": {},
          "output_type": "execute_result"
        }
      ],
      "source": [
        "df.Orbit.value_counts()"
      ]
    },
    {
      "cell_type": "markdown",
      "metadata": {
        "id": "lgskq2kPs6ka"
      },
      "source": [
        "#Number of Landing for each Region and successs or not"
      ]
    },
    {
      "cell_type": "code",
      "execution_count": 14,
      "metadata": {
        "colab": {
          "base_uri": "https://localhost:8080/",
          "height": 366
        },
        "id": "Blr2YyL2p8l9",
        "outputId": "43dbac03-8513-4de2-ec65-1fc5c22a0988"
      },
      "outputs": [
        {
          "data": {
            "text/plain": [
              "Outcome\n",
              "True ASDS      109\n",
              "True RTLS       23\n",
              "None None       19\n",
              "False ASDS       7\n",
              "True Ocean       5\n",
              "False Ocean      2\n",
              "None ASDS        2\n",
              "False RTLS       1\n",
              "Name: count, dtype: int64"
            ]
          },
          "execution_count": 14,
          "metadata": {},
          "output_type": "execute_result"
        }
      ],
      "source": [
        "landing_outcomes = df.Outcome.value_counts()\n",
        "landing_outcomes"
      ]
    },
    {
      "cell_type": "code",
      "execution_count": 15,
      "metadata": {
        "colab": {
          "base_uri": "https://localhost:8080/"
        },
        "id": "fBGyizwFp8l-",
        "outputId": "d5b5e8eb-836d-43e6-ae96-842f02aff4fc"
      },
      "outputs": [
        {
          "name": "stdout",
          "output_type": "stream",
          "text": [
            "0 True ASDS\n",
            "1 True RTLS\n",
            "2 None None\n",
            "3 False ASDS\n",
            "4 True Ocean\n",
            "5 False Ocean\n",
            "6 None ASDS\n",
            "7 False RTLS\n"
          ]
        }
      ],
      "source": [
        "for i,outcome in enumerate(landing_outcomes.keys()):\n",
        "    print(i,outcome)"
      ]
    },
    {
      "cell_type": "code",
      "execution_count": 16,
      "metadata": {
        "colab": {
          "base_uri": "https://localhost:8080/"
        },
        "id": "l64aTmI5p8l-",
        "outputId": "488e35f5-9289-4264-aec1-5fe6b0355af4"
      },
      "outputs": [
        {
          "data": {
            "text/plain": [
              "{'False ASDS', 'False Ocean', 'False RTLS', 'None ASDS', 'None None'}"
            ]
          },
          "execution_count": 16,
          "metadata": {},
          "output_type": "execute_result"
        }
      ],
      "source": [
        "bad_outcomes=set(landing_outcomes.keys()[[2,3,5,6,7]])\n",
        "bad_outcomes"
      ]
    },
    {
      "cell_type": "markdown",
      "metadata": {
        "id": "zXQZKlI6tO6y"
      },
      "source": [
        "#Adding Class to detect if is successful land or not"
      ]
    },
    {
      "cell_type": "code",
      "execution_count": 17,
      "metadata": {
        "id": "ZVPoBqC3p8l-"
      },
      "outputs": [],
      "source": [
        "landing_class = [0 if x in bad_outcomes else 1 for x in df['Outcome']]\n",
        "# landing_class\n",
        "df['Class']=landing_class"
      ]
    },
    {
      "cell_type": "code",
      "execution_count": 18,
      "metadata": {
        "colab": {
          "base_uri": "https://localhost:8080/",
          "height": 617
        },
        "id": "4XC15hnUp8l_",
        "outputId": "674460f6-f05a-4ae1-d1ae-9a49f5d29f3f"
      },
      "outputs": [
        {
          "data": {
            "text/html": [
              "<div>\n",
              "<style scoped>\n",
              "    .dataframe tbody tr th:only-of-type {\n",
              "        vertical-align: middle;\n",
              "    }\n",
              "\n",
              "    .dataframe tbody tr th {\n",
              "        vertical-align: top;\n",
              "    }\n",
              "\n",
              "    .dataframe thead th {\n",
              "        text-align: right;\n",
              "    }\n",
              "</style>\n",
              "<table border=\"1\" class=\"dataframe\">\n",
              "  <thead>\n",
              "    <tr style=\"text-align: right;\">\n",
              "      <th></th>\n",
              "      <th>FlightNumber</th>\n",
              "      <th>Date</th>\n",
              "      <th>BoosterVersion</th>\n",
              "      <th>PayloadMass</th>\n",
              "      <th>Orbit</th>\n",
              "      <th>LaunchSite</th>\n",
              "      <th>Outcome</th>\n",
              "      <th>Flights</th>\n",
              "      <th>GridFins</th>\n",
              "      <th>Reused</th>\n",
              "      <th>Legs</th>\n",
              "      <th>Block</th>\n",
              "      <th>ReusedCount</th>\n",
              "      <th>Serial</th>\n",
              "      <th>Longitude</th>\n",
              "      <th>Latitude</th>\n",
              "      <th>Class</th>\n",
              "    </tr>\n",
              "  </thead>\n",
              "  <tbody>\n",
              "    <tr>\n",
              "      <th>0</th>\n",
              "      <td>1</td>\n",
              "      <td>2010-06-04</td>\n",
              "      <td>Falcon 9</td>\n",
              "      <td>8183.607718</td>\n",
              "      <td>LEO</td>\n",
              "      <td>CCSFS SLC 40</td>\n",
              "      <td>None None</td>\n",
              "      <td>1.0</td>\n",
              "      <td>False</td>\n",
              "      <td>False</td>\n",
              "      <td>False</td>\n",
              "      <td>1.0</td>\n",
              "      <td>0.0</td>\n",
              "      <td>B0003</td>\n",
              "      <td>-80.577366</td>\n",
              "      <td>28.561857</td>\n",
              "      <td>0</td>\n",
              "    </tr>\n",
              "    <tr>\n",
              "      <th>1</th>\n",
              "      <td>2</td>\n",
              "      <td>2012-05-22</td>\n",
              "      <td>Falcon 9</td>\n",
              "      <td>525.000000</td>\n",
              "      <td>LEO</td>\n",
              "      <td>CCSFS SLC 40</td>\n",
              "      <td>None None</td>\n",
              "      <td>1.0</td>\n",
              "      <td>False</td>\n",
              "      <td>False</td>\n",
              "      <td>False</td>\n",
              "      <td>1.0</td>\n",
              "      <td>0.0</td>\n",
              "      <td>B0005</td>\n",
              "      <td>-80.577366</td>\n",
              "      <td>28.561857</td>\n",
              "      <td>0</td>\n",
              "    </tr>\n",
              "    <tr>\n",
              "      <th>2</th>\n",
              "      <td>3</td>\n",
              "      <td>2013-03-01</td>\n",
              "      <td>Falcon 9</td>\n",
              "      <td>677.000000</td>\n",
              "      <td>ISS</td>\n",
              "      <td>CCSFS SLC 40</td>\n",
              "      <td>None None</td>\n",
              "      <td>1.0</td>\n",
              "      <td>False</td>\n",
              "      <td>False</td>\n",
              "      <td>False</td>\n",
              "      <td>1.0</td>\n",
              "      <td>0.0</td>\n",
              "      <td>B0007</td>\n",
              "      <td>-80.577366</td>\n",
              "      <td>28.561857</td>\n",
              "      <td>0</td>\n",
              "    </tr>\n",
              "    <tr>\n",
              "      <th>3</th>\n",
              "      <td>4</td>\n",
              "      <td>2013-09-29</td>\n",
              "      <td>Falcon 9</td>\n",
              "      <td>500.000000</td>\n",
              "      <td>PO</td>\n",
              "      <td>VAFB SLC 4E</td>\n",
              "      <td>False Ocean</td>\n",
              "      <td>1.0</td>\n",
              "      <td>False</td>\n",
              "      <td>False</td>\n",
              "      <td>False</td>\n",
              "      <td>1.0</td>\n",
              "      <td>0.0</td>\n",
              "      <td>B1003</td>\n",
              "      <td>-120.610829</td>\n",
              "      <td>34.632093</td>\n",
              "      <td>0</td>\n",
              "    </tr>\n",
              "    <tr>\n",
              "      <th>4</th>\n",
              "      <td>5</td>\n",
              "      <td>2013-12-03</td>\n",
              "      <td>Falcon 9</td>\n",
              "      <td>3170.000000</td>\n",
              "      <td>GTO</td>\n",
              "      <td>CCSFS SLC 40</td>\n",
              "      <td>None None</td>\n",
              "      <td>1.0</td>\n",
              "      <td>False</td>\n",
              "      <td>False</td>\n",
              "      <td>False</td>\n",
              "      <td>1.0</td>\n",
              "      <td>0.0</td>\n",
              "      <td>B1004</td>\n",
              "      <td>-80.577366</td>\n",
              "      <td>28.561857</td>\n",
              "      <td>0</td>\n",
              "    </tr>\n",
              "    <tr>\n",
              "      <th>...</th>\n",
              "      <td>...</td>\n",
              "      <td>...</td>\n",
              "      <td>...</td>\n",
              "      <td>...</td>\n",
              "      <td>...</td>\n",
              "      <td>...</td>\n",
              "      <td>...</td>\n",
              "      <td>...</td>\n",
              "      <td>...</td>\n",
              "      <td>...</td>\n",
              "      <td>...</td>\n",
              "      <td>...</td>\n",
              "      <td>...</td>\n",
              "      <td>...</td>\n",
              "      <td>...</td>\n",
              "      <td>...</td>\n",
              "      <td>...</td>\n",
              "    </tr>\n",
              "    <tr>\n",
              "      <th>163</th>\n",
              "      <td>164</td>\n",
              "      <td>2022-08-28</td>\n",
              "      <td>Falcon 9</td>\n",
              "      <td>13260.000000</td>\n",
              "      <td>VLEO</td>\n",
              "      <td>KSC LC 39A</td>\n",
              "      <td>True ASDS</td>\n",
              "      <td>2.0</td>\n",
              "      <td>True</td>\n",
              "      <td>True</td>\n",
              "      <td>True</td>\n",
              "      <td>5.0</td>\n",
              "      <td>1.0</td>\n",
              "      <td>B1069</td>\n",
              "      <td>-80.603956</td>\n",
              "      <td>28.608058</td>\n",
              "      <td>1</td>\n",
              "    </tr>\n",
              "    <tr>\n",
              "      <th>164</th>\n",
              "      <td>165</td>\n",
              "      <td>2022-08-31</td>\n",
              "      <td>Falcon 9</td>\n",
              "      <td>13260.000000</td>\n",
              "      <td>VLEO</td>\n",
              "      <td>VAFB SLC 4E</td>\n",
              "      <td>True ASDS</td>\n",
              "      <td>7.0</td>\n",
              "      <td>True</td>\n",
              "      <td>True</td>\n",
              "      <td>True</td>\n",
              "      <td>5.0</td>\n",
              "      <td>6.0</td>\n",
              "      <td>B1063</td>\n",
              "      <td>-120.610829</td>\n",
              "      <td>34.632093</td>\n",
              "      <td>1</td>\n",
              "    </tr>\n",
              "    <tr>\n",
              "      <th>165</th>\n",
              "      <td>166</td>\n",
              "      <td>2022-09-17</td>\n",
              "      <td>Falcon 9</td>\n",
              "      <td>13260.000000</td>\n",
              "      <td>VLEO</td>\n",
              "      <td>CCSFS SLC 40</td>\n",
              "      <td>True ASDS</td>\n",
              "      <td>6.0</td>\n",
              "      <td>True</td>\n",
              "      <td>True</td>\n",
              "      <td>True</td>\n",
              "      <td>5.0</td>\n",
              "      <td>5.0</td>\n",
              "      <td>B1067</td>\n",
              "      <td>-80.577366</td>\n",
              "      <td>28.561857</td>\n",
              "      <td>1</td>\n",
              "    </tr>\n",
              "    <tr>\n",
              "      <th>166</th>\n",
              "      <td>167</td>\n",
              "      <td>2022-09-24</td>\n",
              "      <td>Falcon 9</td>\n",
              "      <td>13260.000000</td>\n",
              "      <td>VLEO</td>\n",
              "      <td>CCSFS SLC 40</td>\n",
              "      <td>True ASDS</td>\n",
              "      <td>4.0</td>\n",
              "      <td>True</td>\n",
              "      <td>True</td>\n",
              "      <td>True</td>\n",
              "      <td>5.0</td>\n",
              "      <td>0.0</td>\n",
              "      <td>B1072</td>\n",
              "      <td>-80.577366</td>\n",
              "      <td>28.561857</td>\n",
              "      <td>1</td>\n",
              "    </tr>\n",
              "    <tr>\n",
              "      <th>167</th>\n",
              "      <td>168</td>\n",
              "      <td>2022-10-05</td>\n",
              "      <td>Falcon 9</td>\n",
              "      <td>8183.607718</td>\n",
              "      <td>ISS</td>\n",
              "      <td>KSC LC 39A</td>\n",
              "      <td>True ASDS</td>\n",
              "      <td>1.0</td>\n",
              "      <td>True</td>\n",
              "      <td>False</td>\n",
              "      <td>True</td>\n",
              "      <td>5.0</td>\n",
              "      <td>0.0</td>\n",
              "      <td>B1077</td>\n",
              "      <td>-80.603956</td>\n",
              "      <td>28.608058</td>\n",
              "      <td>1</td>\n",
              "    </tr>\n",
              "  </tbody>\n",
              "</table>\n",
              "<p>168 rows × 17 columns</p>\n",
              "</div>"
            ],
            "text/plain": [
              "     FlightNumber        Date BoosterVersion   PayloadMass Orbit  \\\n",
              "0               1  2010-06-04       Falcon 9   8183.607718   LEO   \n",
              "1               2  2012-05-22       Falcon 9    525.000000   LEO   \n",
              "2               3  2013-03-01       Falcon 9    677.000000   ISS   \n",
              "3               4  2013-09-29       Falcon 9    500.000000    PO   \n",
              "4               5  2013-12-03       Falcon 9   3170.000000   GTO   \n",
              "..            ...         ...            ...           ...   ...   \n",
              "163           164  2022-08-28       Falcon 9  13260.000000  VLEO   \n",
              "164           165  2022-08-31       Falcon 9  13260.000000  VLEO   \n",
              "165           166  2022-09-17       Falcon 9  13260.000000  VLEO   \n",
              "166           167  2022-09-24       Falcon 9  13260.000000  VLEO   \n",
              "167           168  2022-10-05       Falcon 9   8183.607718   ISS   \n",
              "\n",
              "       LaunchSite      Outcome  Flights GridFins Reused   Legs  Block  \\\n",
              "0    CCSFS SLC 40    None None      1.0    False  False  False    1.0   \n",
              "1    CCSFS SLC 40    None None      1.0    False  False  False    1.0   \n",
              "2    CCSFS SLC 40    None None      1.0    False  False  False    1.0   \n",
              "3     VAFB SLC 4E  False Ocean      1.0    False  False  False    1.0   \n",
              "4    CCSFS SLC 40    None None      1.0    False  False  False    1.0   \n",
              "..            ...          ...      ...      ...    ...    ...    ...   \n",
              "163    KSC LC 39A    True ASDS      2.0     True   True   True    5.0   \n",
              "164   VAFB SLC 4E    True ASDS      7.0     True   True   True    5.0   \n",
              "165  CCSFS SLC 40    True ASDS      6.0     True   True   True    5.0   \n",
              "166  CCSFS SLC 40    True ASDS      4.0     True   True   True    5.0   \n",
              "167    KSC LC 39A    True ASDS      1.0     True  False   True    5.0   \n",
              "\n",
              "     ReusedCount Serial   Longitude   Latitude  Class  \n",
              "0            0.0  B0003  -80.577366  28.561857      0  \n",
              "1            0.0  B0005  -80.577366  28.561857      0  \n",
              "2            0.0  B0007  -80.577366  28.561857      0  \n",
              "3            0.0  B1003 -120.610829  34.632093      0  \n",
              "4            0.0  B1004  -80.577366  28.561857      0  \n",
              "..           ...    ...         ...        ...    ...  \n",
              "163          1.0  B1069  -80.603956  28.608058      1  \n",
              "164          6.0  B1063 -120.610829  34.632093      1  \n",
              "165          5.0  B1067  -80.577366  28.561857      1  \n",
              "166          0.0  B1072  -80.577366  28.561857      1  \n",
              "167          0.0  B1077  -80.603956  28.608058      1  \n",
              "\n",
              "[168 rows x 17 columns]"
            ]
          },
          "execution_count": 18,
          "metadata": {},
          "output_type": "execute_result"
        }
      ],
      "source": [
        "df"
      ]
    },
    {
      "cell_type": "markdown",
      "metadata": {
        "id": "PR0S432LX7cj"
      },
      "source": [
        "#removing outliers"
      ]
    },
    {
      "cell_type": "code",
      "execution_count": 19,
      "metadata": {
        "id": "6P9Ww6zEUxXJ"
      },
      "outputs": [],
      "source": [
        "\n",
        "# Select numeric columns but exclude 'class' and 'FlightNumber'\n",
        "numeric_columns = df.select_dtypes(include=['float64', 'int64']).drop(columns=['Class', 'FlightNumber'])\n",
        "\n",
        "# Calculate the IQR for numeric columns\n",
        "Q1 = numeric_columns.quantile(0.2)\n",
        "Q3 = numeric_columns.quantile(0.8)\n",
        "IQR = Q3 - Q1\n",
        "\n",
        "# Detect outliers in numeric columns\n",
        "outliers_condition = (numeric_columns < (Q1 - 1.5 * IQR)) | (numeric_columns > (Q3 + 1.5 * IQR))\n",
        "\n",
        "# This will give you a DataFrame with True/False where True indicates an outlier\n",
        "\n",
        "\n",
        "\n"
      ]
    },
    {
      "cell_type": "code",
      "execution_count": 20,
      "metadata": {
        "colab": {
          "base_uri": "https://localhost:8080/",
          "height": 606
        },
        "id": "tVM0ZfVxVzFj",
        "outputId": "c36984b4-eb99-4b56-df54-10b3d254d2c2"
      },
      "outputs": [
        {
          "data": {
            "image/png": "[encoded data removed]",
            "text/plain": [
              "<Figure size 1200x600 with 1 Axes>"
            ]
          },
          "metadata": {},
          "output_type": "display_data"
        }
      ],
      "source": [
        "import seaborn as sns\n",
        "import matplotlib.pyplot as plt\n",
        "\n",
        "# Visualize outliers for each numeric column using boxplots\n",
        "plt.figure(figsize=(12, 6))\n",
        "sns.boxplot(data=numeric_columns)\n",
        "plt.title(\"Outliers in Numeric Columns\")\n",
        "plt.xticks(rotation=45)  # Rotate x-axis labels for better readability\n",
        "plt.show()\n"
      ]
    },
    {
      "cell_type": "code",
      "execution_count": 21,
      "metadata": {
        "colab": {
          "base_uri": "https://localhost:8080/"
        },
        "id": "zc6D2n2WV9Tc",
        "outputId": "abfade09-2511-4134-cbfe-0c7402f39dad"
      },
      "outputs": [
        {
          "name": "stdout",
          "output_type": "stream",
          "text": [
            "Number of records with outliers: 26\n",
            "Total number of records: 168\n",
            "Percentage of records with outliers: 15.48%\n"
          ]
        }
      ],
      "source": [
        "# Count the number of records with any outlier\n",
        "outliers_count = outliers_condition.any(axis=1).sum()\n",
        "\n",
        "# Total number of records\n",
        "total_records = len(df)\n",
        "\n",
        "# Print the number of outliers and their percentage\n",
        "print(f\"Number of records with outliers: {outliers_count}\")\n",
        "print(f\"Total number of records: {total_records}\")\n",
        "print(f\"Percentage of records with outliers: {outliers_count / total_records * 100:.2f}%\")\n"
      ]
    },
    {
      "cell_type": "code",
      "execution_count": 22,
      "metadata": {
        "id": "8pPVxrKVXf3J"
      },
      "outputs": [],
      "source": [
        "# Remove rows that have outliers\n",
        "df_cleaned = df[~outliers_condition.any(axis=1)]\n"
      ]
    },
    {
      "cell_type": "code",
      "execution_count": 23,
      "metadata": {
        "id": "9uQxKb6Rp8l_"
      },
      "outputs": [],
      "source": [
        "df_cleaned.to_csv(\"SpaceX_Data_Cleaned.csv\", index=False)"
      ]
    },
    {
      "cell_type": "markdown",
      "metadata": {
        "id": "GsYXLun9YUij"
      },
      "source": [
        "#check balance of data"
      ]
    },
    {
      "cell_type": "code",
      "execution_count": 24,
      "metadata": {
        "colab": {
          "base_uri": "https://localhost:8080/"
        },
        "id": "WogDaT-BYSMt",
        "outputId": "2e0323a0-4adc-4d5e-b9a4-32f49eca1214"
      },
      "outputs": [
        {
          "name": "stdout",
          "output_type": "stream",
          "text": [
            "Class 0: 31 records\n",
            "Class 1: 137 records\n"
          ]
        }
      ],
      "source": [
        "# Count the number of records for each class (0 and 1)\n",
        "class_counts = df['Class'].value_counts()\n",
        "\n",
        "# Print the number of records for each class\n",
        "print(f\"Class 0: {class_counts[0]} records\")\n",
        "print(f\"Class 1: {class_counts[1]} records\")\n"
      ]
    },
    {
      "cell_type": "code",
      "execution_count": 25,
      "metadata": {
        "colab": {
          "base_uri": "https://localhost:8080/"
        },
        "id": "NhOr7R7eYaUn",
        "outputId": "76637114-4afb-4f60-b408-85a85201eb68"
      },
      "outputs": [
        {
          "name": "stdout",
          "output_type": "stream",
          "text": [
            "Class\n",
            "0    137\n",
            "1    137\n",
            "Name: count, dtype: int64\n"
          ]
        }
      ],
      "source": [
        "\n",
        "\n",
        "from imblearn.over_sampling import SMOTENC\n",
        "\n",
        "# Separate features (X) and target (y)\n",
        "X = df.drop('Class', axis=1)  # All columns except target 'class'\n",
        "y = df['Class']  # Target column (class)\n",
        "\n",
        "# Detect categorical features based on their data types\n",
        "# Categorical columns typically have 'object' data type, while numeric columns have 'int64' or 'float64'\n",
        "categorical_features_indices = X.select_dtypes(include=['object']).columns\n",
        "\n",
        "# Get the indices of categorical features\n",
        "categorical_feature_indices = [X.columns.get_loc(col) for col in categorical_features_indices]\n",
        "\n",
        "# Initialize SMOTE-NC with categorical feature indices\n",
        "smote_nc = SMOTENC(categorical_features=categorical_feature_indices, random_state=42)\n",
        "\n",
        "# Apply SMOTE-NC to the dataset\n",
        "X_resampled, y_resampled = smote_nc.fit_resample(X, y)\n",
        "\n",
        "# Create a new DataFrame with resampled data\n",
        "df_resampled = pd.concat([pd.DataFrame(X_resampled, columns=X.columns), pd.DataFrame(y_resampled, columns=['Class'])], axis=1)\n",
        "\n",
        "# Check the new class distribution\n",
        "print(df_resampled['Class'].value_counts())\n"
      ]
    },
    {
      "cell_type": "code",
      "execution_count": 26,
      "metadata": {
        "id": "-Cc-OOsPaOm8"
      },
      "outputs": [],
      "source": [
        "df_resampled.to_csv(\"SpaceX_Data_Cleaned_upsampled.csv\", index=False)"
      ]
    },
    {
      "cell_type": "code",
      "execution_count": null,
      "metadata": {
        "id": "17FQGMdabGPv"
      },
      "outputs": [],
      "source": []
    }
  ],
  "metadata": {
    "colab": {
      "provenance": []
    },
    "kernelspec": {
      "display_name": "django",
      "language": "python",
      "name": "python3"
    },
    "language_info": {
      "codemirror_mode": {
        "name": "ipython",
        "version": 3
      },
      "file_extension": ".py",
      "mimetype": "text/x-python",
      "name": "python",
      "nbconvert_exporter": "python",
      "pygments_lexer": "ipython3",
      "version": "3.11.7"
    }
  },
  "nbformat": 4,
  "nbformat_minor": 0
}
